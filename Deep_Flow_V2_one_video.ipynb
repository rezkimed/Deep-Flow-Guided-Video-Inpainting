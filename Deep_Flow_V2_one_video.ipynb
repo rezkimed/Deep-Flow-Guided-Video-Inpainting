{
  "nbformat": 4,
  "nbformat_minor": 0,
  "metadata": {
    "colab": {
      "name": "Deep_Flow_Bon_V2_one_video.ipynb",
      "provenance": [],
      "collapsed_sections": [],
      "toc_visible": true,
      "include_colab_link": true
    },
    "kernelspec": {
      "name": "python3",
      "display_name": "Python 3"
    },
    "accelerator": "GPU"
  },
  "cells": [
    {
      "cell_type": "markdown",
      "metadata": {
        "id": "view-in-github",
        "colab_type": "text"
      },
      "source": [
        "<a href=\"https://colab.research.google.com/github/rezkimed/Deep-Flow-Guided-Video-Inpainting/blob/master/Deep_Flow_V2_one_video.ipynb\" target=\"_parent\"><img src=\"https://colab.research.google.com/assets/colab-badge.svg\" alt=\"Open In Colab\"/></a>"
      ]
    },
    {
      "cell_type": "code",
      "metadata": {
        "id": "BFshsOO81c5l"
      },
      "source": [
        "#@title Deep flow video inpainting\n"
      ],
      "execution_count": null,
      "outputs": []
    },
    {
      "cell_type": "code",
      "metadata": {
        "id": "LYfW4NmyEJbD"
      },
      "source": [
        "!apt-get update\n",
        "!apt-get upgrade"
      ],
      "execution_count": null,
      "outputs": []
    },
    {
      "cell_type": "code",
      "metadata": {
        "id": "DS3gsVT6HI2t"
      },
      "source": [
        "!wget http://developer.download.nvidia.com/compute/cuda/repos/ubuntu1604/x86_64/cuda-repo-ubuntu1604_9.0.176-1_amd64.deb\n",
        "!wget http://developer.download.nvidia.com/compute/machine-learning/repos/ubuntu1604/x86_64/libcudnn7_7.0.5.15-1+cuda9.0_amd64.deb\n",
        "!wget http://developer.download.nvidia.com/compute/machine-learning/repos/ubuntu1604/x86_64/libcudnn7-dev_7.0.5.15-1+cuda9.0_amd64.deb\n",
        "!wget http://developer.download.nvidia.com/compute/machine-learning/repos/ubuntu1604/x86_64/libnccl2_2.1.4-1+cuda9.0_amd64.deb\n",
        "!wget http://developer.download.nvidia.com/compute/machine-learning/repos/ubuntu1604/x86_64/libnccl-dev_2.1.4-1+cuda9.0_amd64.deb\n",
        "!dpkg -i cuda-repo-ubuntu1604_9.0.176-1_amd64.deb\n",
        "!dpkg -i libcudnn7_7.0.5.15-1+cuda9.0_amd64.deb\n",
        "!dpkg -i libcudnn7-dev_7.0.5.15-1+cuda9.0_amd64.deb\n",
        "!dpkg -i libnccl2_2.1.4-1+cuda9.0_amd64.deb\n",
        "!dpkg -i libnccl-dev_2.1.4-1+cuda9.0_amd64.deb\n",
        "!apt-get update\n",
        "!apt-get install cuda=9.0.176-1\n",
        "!apt-get install libcudnn7-dev"
      ],
      "execution_count": null,
      "outputs": []
    },
    {
      "cell_type": "code",
      "metadata": {
        "id": "R-6vTL4apZBz"
      },
      "source": [
        "!nvcc --version"
      ],
      "execution_count": null,
      "outputs": []
    },
    {
      "cell_type": "code",
      "metadata": {
        "id": "O39fRoSBkUc-"
      },
      "source": [
        "from google.colab import drive\n",
        "drive.mount('/content/gdrive')"
      ],
      "execution_count": null,
      "outputs": []
    },
    {
      "cell_type": "code",
      "metadata": {
        "id": "WT1piacrkvdO"
      },
      "source": [
        "%cd /content\n",
        "!cp -r gdrive/My\\ Drive/colab_Deep_flow/Deep-Flow-Guided-Video-Inpainting-master .\n",
        "!cp -r gdrive/My\\ Drive/colab_Deep_flow/demo/frames ./Deep-Flow-Guided-Video-Inpainting-master/demo/\n",
        "!cp -r gdrive/My\\ Drive/colab_Deep_flow/demo/masks ./Deep-Flow-Guided-Video-Inpainting-master/demo/\n",
        "!cp -r gdrive/My\\ Drive/colab_Deep_flow/pretrained_models  ./Deep-Flow-Guided-Video-Inpainting-master/"
      ],
      "execution_count": null,
      "outputs": []
    },
    {
      "cell_type": "code",
      "metadata": {
        "id": "sN6HWJAAS0-9"
      },
      "source": [
        "%cd Deep-Flow-Guided-Video-Inpainting-master\n",
        "!ls"
      ],
      "execution_count": null,
      "outputs": []
    },
    {
      "cell_type": "code",
      "metadata": {
        "id": "Wtpl3BOH62fT"
      },
      "source": [
        "#install torch0.0.4.0\n",
        "!pip install http://download.pytorch.org/whl/cu90/torch-0.4.0-cp36-cp36m-linux_x86_64.whl"
      ],
      "execution_count": null,
      "outputs": []
    },
    {
      "cell_type": "code",
      "metadata": {
        "id": "-ByRtIDYhHZt"
      },
      "source": [
        "import torch\n",
        "print(torch.__version__)\n",
        "print(torch.cuda.device_count()) \n",
        "print(torch.cuda.get_device_name(0)) "
      ],
      "execution_count": null,
      "outputs": []
    },
    {
      "cell_type": "code",
      "metadata": {
        "id": "FpgFBUDY6SLS"
      },
      "source": [
        "!pip3 install -r requirements.txt\n",
        "!pip3 install mkl-fft\n",
        "!apt-get install gcc-6 g++-6\n",
        "!sudo update-alternatives --install /usr/bin/g++ g++ /usr/bin/g++-6 10\n",
        "!sudo update-alternatives --install /usr/bin/gcc gcc /usr/bin/gcc-6 10"
      ],
      "execution_count": null,
      "outputs": []
    },
    {
      "cell_type": "code",
      "metadata": {
        "id": "vWHE-ZqOuGLq"
      },
      "source": [
        "!apt-get update\n",
        "!apt-get upgrade "
      ],
      "execution_count": null,
      "outputs": []
    },
    {
      "cell_type": "code",
      "metadata": {
        "id": "sPZlvHRQHc6z",
        "colab": {
          "base_uri": "https://localhost:8080/",
          "height": 134
        },
        "outputId": "ad9f6f89-81f0-4aea-8284-890bb4e7c779"
      },
      "source": [
        "%cd /content/Deep-Flow-Guided-Video-Inpainting-master\n",
        "!bash install_scripts.sh"
      ],
      "execution_count": null,
      "outputs": [
        {
          "output_type": "stream",
          "text": [
            "/content/Deep-Flow-Guided-Video-Inpainting-master\n",
            "Compiling resample2d kernels by nvcc...\n",
            "rm: cannot remove 'Resample2d_kernel.o': No such file or directory\n",
            "Compiling correlation kernels by nvcc...\n",
            "rm: cannot remove 'correlation_cuda_kernel.o': No such file or directory\n",
            "Compiling channelnorm kernels by nvcc...\n",
            "rm: cannot remove 'ChannelNorm_kernel.o': No such file or directory\n"
          ],
          "name": "stdout"
        }
      ]
    },
    {
      "cell_type": "code",
      "metadata": {
        "id": "3t7YAuA8BuGR",
        "colab": {
          "base_uri": "https://localhost:8080/",
          "height": 642
        },
        "outputId": "5bd7e516-1336-4958-aedc-21481390af5e"
      },
      "source": [
        "!python tools/video_inpaint.py --frame_dir ./demo/frames --MASK_ROOT ./demo/masks --img_size 512 832 --FlowNet2 --DFC --ResNet101 --Propagation "
      ],
      "execution_count": null,
      "outputs": [
        {
          "output_type": "stream",
          "text": [
            "This Video has 80 Images\n",
            "The optical flow list has been generated: ./demo/video_flow.txt\n",
            "====> Loading ./pretrained_models/FlowNet2_checkpoint.pth.tar\n",
            "terminal width is too small (0), please consider widen the terminal for better progressbar visualization\n",
            "[          ] 0/158, elapsed: 0s, ETA:/usr/local/lib/python3.6/dist-packages/torch/nn/functional.py:1749: UserWarning: Default upsampling behavior when mode=bilinear is changed to align_corners=False since 0.4.0. Please specify align_corners=True if the old behavior is desired. See the documentation of nn.Upsample for details.\n",
            "  \"See the documentation of nn.Upsample for details.\".format(mode))\n",
            "[>>>>>>>>>>] 158/158, 3.6 task/s, elapsed: 44s, ETA:     0s\n",
            "FlowNet2 Inference has been finished~!\n",
            "Extracted Flow has been save in ./demo/Flow\n",
            "Generate datalist for initial step\n",
            "Flow Completion in First Step\n",
            "Freezing BatchNorm2D.\n",
            "Load Pretrained Model from ./pretrained_models/resnet101_movie.pth\n",
            "terminal width is too small (0), please consider widen the terminal for better progressbar visualization\n",
            "[          ] 0/159, elapsed: 0s, ETA:/usr/local/lib/python3.6/dist-packages/torch/nn/functional.py:1749: UserWarning: Default upsampling behavior when mode=bilinear is changed to align_corners=False since 0.4.0. Please specify align_corners=True if the old behavior is desired. See the documentation of nn.Upsample for details.\n",
            "  \"See the documentation of nn.Upsample for details.\".format(mode))\n",
            "[>>>>>>>>>>] 159/159, 1.9 task/s, elapsed: 85s, ETA:     0s\n",
            "Initial Results Saved in ./demo/Flow_res/initial_res\n",
            "Load Deepfill Model from ./pretrained_models/imagenet_deepfill.pth\n",
            "79 frames need to be inpainted.\n",
            "The output shape is: [512, 832]\n",
            "Iter 0 Forward Propagation\n",
            "terminal width is too small (0), please consider widen the terminal for better progressbar visualization\n",
            "[>>>>>>>>>>] 79/79, 2.4 task/s, elapsed: 33s, ETA:     0s\n",
            "Iter 0 Backward Propagation\n",
            "terminal width is too small (0), please consider widen the terminal for better progressbar visualization\n",
            "[>>>>>>>>>>] 79/79, 2.4 task/s, elapsed: 33s, ETA:     0s\n",
            "Iter 0 Merge Results\n",
            "terminal width is too small (0), please consider widen the terminal for better progressbar visualization\n",
            "[>>>>>>>>> ] 79/80, 19.7 task/s, elapsed: 4s, ETA:     0s\n",
            "0\n",
            "80 frames have been inpainted by 1 iterations.\n",
            "0\n",
            "Writing frames to: ./demo/Inpaint_Res/inpaint_res\n",
            "Propagation has been finished\n",
            "72.67037177085876\n"
          ],
          "name": "stdout"
        }
      ]
    },
    {
      "cell_type": "code",
      "metadata": {
        "id": "DuY7jEqouQPR"
      },
      "source": [
        "%mkdir /content/gdrive/My\\ Drive/colab_Deep_flow/output\n",
        "%cp -r ./demo/Inpaint_Res/inpaint_res /content/gdrive/My\\ Drive/colab_Deep_flow/output"
      ],
      "execution_count": null,
      "outputs": []
    },
    {
      "cell_type": "code",
      "metadata": {
        "id": "aKt7h6HeKnAK"
      },
      "source": [
        "##!zip -r Deep.zip Deep-Flow-Guided-Video-Inpainting-master/"
      ],
      "execution_count": null,
      "outputs": []
    },
    {
      "cell_type": "code",
      "metadata": {
        "id": "ZVc3FJb4Kjgz"
      },
      "source": [
        "#from google.colab import files\n",
        "#files.download('Deep-Flow-Guided-Video-Inpainting-master/demo/Inpaint_Res/inpaint_res/00000.png')\n"
      ],
      "execution_count": null,
      "outputs": []
    }
  ]
}